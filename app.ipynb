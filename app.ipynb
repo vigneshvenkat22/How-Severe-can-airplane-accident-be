{
 "cells": [
  {
   "cell_type": "code",
   "execution_count": 2,
   "id": "3807a454",
   "metadata": {},
   "outputs": [
    {
     "name": "stdout",
     "output_type": "stream",
     "text": [
      " * Serving Flask app \"__main__\" (lazy loading)\n",
      " * Environment: production\n",
      "   WARNING: This is a development server. Do not use it in a production deployment.\n",
      "   Use a production WSGI server instead.\n",
      " * Debug mode: on\n"
     ]
    },
    {
     "name": "stderr",
     "output_type": "stream",
     "text": [
      " * Restarting with stat\n"
     ]
    },
    {
     "ename": "SystemExit",
     "evalue": "1",
     "output_type": "error",
     "traceback": [
      "An exception has occurred, use %tb to see the full traceback.\n",
      "\u001b[1;31mSystemExit\u001b[0m\u001b[1;31m:\u001b[0m 1\n"
     ]
    }
   ],
   "source": [
    "from flask import Flask ,render_template, request\n",
    "import pandas as pd\n",
    "import numpy as np\n",
    "import pickle\n",
    "from sklearn.ensemble import BaggingClassifier\n",
    "\n",
    "\n",
    "app = Flask(__name__)\n",
    "\n",
    "\n",
    "model= pickle.load(open('model.pkl','rb'))\n",
    "\n",
    "# Home Route\n",
    "@app.route('/')\n",
    "def home():\n",
    "\treturn render_template('index.html')\n",
    "\n",
    "# prediction\n",
    "\n",
    "@app.route('/predict',methods=['POST'])\n",
    "def predict():\n",
    "\tint_feature = [float(x) for x in request.form.values()]\n",
    "\tfinal_features = [np.array(int_feature)]\n",
    "\tprediction = model.predict(final_features[:])\n",
    "\toutput = prediction[0]\n",
    "\tx = \"The Severity of the accident could be \"\n",
    "\toutput = str(output).replace({\n",
    "\t\t\t\t\t\t{ '0':\"Highly_Fatal_And_Damaging\",\n",
    "\t\t\t\t\t\t'1':\"Significant_Damage_And_Serious_Injuries\",\n",
    "\t\t\t\t\t\t'2': \"Minor_Damage_And_Injuries\",\n",
    "\t\t\t\t\t\t'3':\"Significant_Damage_And_Fatalities\", }\n",
    "\t\t\t\t\t\t})\n",
    "\ty = output.replace(\"_\",\" \")\n",
    "\treturn render_template('index.html',text = x ,predictiontext= y)\n",
    "\n",
    "\n",
    "if __name__ == \"__main__\":\n",
    "\tapp.run(debug=True)\n"
   ]
  },
  {
   "cell_type": "code",
   "execution_count": null,
   "id": "a4b28174",
   "metadata": {},
   "outputs": [],
   "source": []
  },
  {
   "cell_type": "code",
   "execution_count": null,
   "id": "ec1eb458",
   "metadata": {},
   "outputs": [],
   "source": []
  }
 ],
 "metadata": {
  "kernelspec": {
   "display_name": "Python [conda env:tensorflow-gpu] *",
   "language": "python",
   "name": "conda-env-tensorflow-gpu-py"
  },
  "language_info": {
   "codemirror_mode": {
    "name": "ipython",
    "version": 3
   },
   "file_extension": ".py",
   "mimetype": "text/x-python",
   "name": "python",
   "nbconvert_exporter": "python",
   "pygments_lexer": "ipython3",
   "version": "3.8.13"
  }
 },
 "nbformat": 4,
 "nbformat_minor": 5
}
