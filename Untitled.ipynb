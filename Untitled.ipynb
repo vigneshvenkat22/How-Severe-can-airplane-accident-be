{
 "cells": [
  {
   "cell_type": "code",
   "execution_count": 1,
   "metadata": {},
   "outputs": [],
   "source": [
    "import numpy as np\n",
    "import pandas as pd\n",
    "import pickle\n",
    "# from sklearn.ensemble import BaggingClassifier\n",
    "from sklearn.ensemble import BaggingClassifier\n",
    "\n",
    "train=pd.read_csv('train.csv')\n",
    "x=train[['Safety_Score','Days_Since_Inspection','Control_Metric','Adverse_Weather_Metric']]\n",
    "y=train['Severity']\n",
    " \n",
    "bagging = BaggingClassifier(base_estimator= None,max_features= 1.0, max_samples= 0.98, n_estimators= 200)\n",
    "bagging.fit(x,y)\n",
    "pickle.dump(bagging,open('model1.pkl','wb'))\n",
    "model=pickle.load(open('model1.pkl','rb'))\n",
    "\n",
    "from flask import Flask ,render_template, request\n",
    "import pickle\n",
    "import numpy as np\n",
    "\n",
    "app = Flask(__name__)\n",
    "\n",
    "with open('model1.pkl', 'rb') as f:\n",
    "    model = pickle.load(f)\n",
    "\n",
    "# Home Route\n",
    "@app.route('/')\n",
    "def home():\n",
    "\treturn render_template('index.html')\n",
    "\n",
    "# prediction\n",
    "@app.route('/predict',methods=['POST'])\n",
    "def predict():\n",
    "\tint_feature = [float(x) for x in request.form.values()]\n",
    "\tfinal_features = [np.array(int_feature)]\n",
    "\tprediction = model.predict(final_features)\n",
    "\toutput = prediction[0]\n",
    "\tx = \"The Severity of the accident could be \"\n",
    "\ty = output.replace(\"_\",\" \")\n",
    "\treturn render_template('index.html',text = x ,predictiontext= y)\n",
    "\n",
    "\n",
    "if __name__ == \"__main__\":\n",
    "\tapp.run()\n"
   ]
  }
 ],
 "metadata": {
  "kernelspec": {
   "display_name": "Python 3",
   "language": "python",
   "name": "python3"
  },
  "language_info": {
   "codemirror_mode": {
    "name": "ipython",
    "version": 3
   },
   "file_extension": ".py",
   "mimetype": "text/x-python",
   "name": "python",
   "nbconvert_exporter": "python",
   "pygments_lexer": "ipython3",
   "version": "3.7.4"
  }
 },
 "nbformat": 4,
 "nbformat_minor": 4
}
