{
 "cells": [
  {
   "cell_type": "code",
   "execution_count": 1,
   "metadata": {},
   "outputs": [],
   "source": [
    "import numpy as np\n",
    "import pandas as pd\n",
    "import pickle\n",
    "# from sklearn.ensemble import BaggingClassifier\n",
    "from sklearn.ensemble import BaggingClassifier\n",
    "\n",
    "train=pd.read_csv('train.csv')\n",
    "x=train[['Safety_Score','Days_Since_Inspection','Control_Metric','Adverse_Weather_Metric']]\n",
    "y=train['Severity']\n",
    " \n",
    "bagging = BaggingClassifier(base_estimator= None,max_features= 1.0, max_samples= 0.98, n_estimators= 200)\n",
    "bagging.fit(x,y)\n",
    "pickle.dump(bagging,open('model1.pkl','wb'))\n",
    "model=pickle.load(open('model1.pkl','rb'))"
   ]
  },
  {
   "cell_type": "code",
   "execution_count": 2,
   "metadata": {},
   "outputs": [
    {
     "output_type": "stream",
     "name": "stdout",
     "text": [
      " * Serving Flask app \"__main__\" (lazy loading)\n",
      " * Environment: production\n",
      "   WARNING: This is a development server. Do not use it in a production deployment.\n",
      "   Use a production WSGI server instead.\n",
      " * Debug mode: off\n",
      " * Running on http://127.0.0.1:5000/ (Press CTRL+C to quit)\n",
      "127.0.0.1 - - [07/May/2021 22:12:24] \"\u001b[37mGET / HTTP/1.1\u001b[0m\" 200 -\n"
     ]
    }
   ],
   "source": [
    "from flask import Flask ,render_template, request\n",
    "import pickle\n",
    "import numpy as np\n",
    "\n",
    "app = Flask(__name__)\n",
    "\n",
    "\n",
    "with open('model1.pkl', 'rb') as f:\n",
    "    model = pickle.load(f)\n",
    "\n",
    "# Home Route\n",
    "@app.route('/')\n",
    "def home():\n",
    "\treturn render_template('index.html')\n",
    "\n",
    "# prediction\n",
    "@app.route('/predict',methods=['POST'])\n",
    "def predict():\n",
    "\tint_feature = [float(x) for x in request.form.values()]\n",
    "\tfinal_features = [np.array(int_feature)]\n",
    "\tprediction = model.predict(final_features)\n",
    "\toutput = prediction[0]\n",
    "\tx = \"The Severity of the accident could be \"\n",
    "\ty = output.replace(\"_\",\" \")\n",
    "\treturn render_template('index.html',text = x ,predictiontext= y)\n",
    "\n",
    "\n",
    "if __name__ == \"__main__\":\n",
    "\tapp.run()\n"
   ]
  },
  {
   "cell_type": "code",
   "execution_count": null,
   "metadata": {},
   "outputs": [],
   "source": []
  },
  {
   "cell_type": "code",
   "execution_count": null,
   "metadata": {},
   "outputs": [],
   "source": []
  },
  {
   "cell_type": "code",
   "execution_count": 3,
   "metadata": {},
   "outputs": [
    {
     "output_type": "error",
     "ename": "SyntaxError",
     "evalue": "invalid syntax (<ipython-input-3-b6e5ab2fa93c>, line 1)",
     "traceback": [
      "\u001b[1;36m  File \u001b[1;32m\"<ipython-input-3-b6e5ab2fa93c>\"\u001b[1;36m, line \u001b[1;32m1\u001b[0m\n\u001b[1;33m    pipreqs .\u001b[0m\n\u001b[1;37m             ^\u001b[0m\n\u001b[1;31mSyntaxError\u001b[0m\u001b[1;31m:\u001b[0m invalid syntax\n"
     ]
    }
   ],
   "source": [
    "pipreqs ."
   ]
  },
  {
   "cell_type": "code",
   "execution_count": 7,
   "metadata": {},
   "outputs": [
    {
     "output_type": "stream",
     "name": "stdout",
     "text": [
      "Requirement already satisfied: pipreqs in c:\\users\\91965\\anaconda3\\lib\\site-packages (0.4.10)\nRequirement already satisfied: docopt in c:\\users\\91965\\anaconda3\\lib\\site-packages (from pipreqs) (0.6.2)\nRequirement already satisfied: yarg in c:\\users\\91965\\anaconda3\\lib\\site-packages (from pipreqs) (0.1.9)\nRequirement already satisfied: requests in c:\\users\\91965\\anaconda3\\lib\\site-packages (from yarg->pipreqs) (2.22.0)\nRequirement already satisfied: idna<2.9,>=2.5 in c:\\users\\91965\\anaconda3\\lib\\site-packages (from requests->yarg->pipreqs) (2.8)\nRequirement already satisfied: certifi>=2017.4.17 in c:\\users\\91965\\anaconda3\\lib\\site-packages (from requests->yarg->pipreqs) (2019.9.11)\nRequirement already satisfied: chardet<3.1.0,>=3.0.2 in c:\\users\\91965\\anaconda3\\lib\\site-packages (from requests->yarg->pipreqs) (3.0.4)\nRequirement already satisfied: urllib3!=1.25.0,!=1.25.1,<1.26,>=1.21.1 in c:\\users\\91965\\anaconda3\\lib\\site-packages (from requests->yarg->pipreqs) (1.24.2)\nNote: you may need to restart the kernel to use updated packages.\n"
     ]
    }
   ],
   "source": [
    "pip install pipreqs\n"
   ]
  },
  {
   "cell_type": "code",
   "execution_count": 12,
   "metadata": {},
   "outputs": [
    {
     "output_type": "execute_result",
     "data": {
      "text/plain": [
       "<module 'pipreqs' from 'C:\\\\Users\\\\91965\\\\Anaconda3\\\\lib\\\\site-packages\\\\pipreqs\\\\__init__.py'>"
      ]
     },
     "metadata": {},
     "execution_count": 12
    }
   ],
   "source": [
    "import pipreqs\n",
    "pipreqs\n"
   ]
  },
  {
   "cell_type": "code",
   "execution_count": null,
   "metadata": {},
   "outputs": [],
   "source": []
  }
 ],
 "metadata": {
  "kernelspec": {
   "name": "python374jvsc74a57bd070cb1a841f4b73c82d24b9f3684936716b6f9d54dcf1b8a3545e2c941f2c13dd",
   "display_name": "Python 3.7.4 64-bit ('base': conda)"
  },
  "language_info": {
   "codemirror_mode": {
    "name": "ipython",
    "version": 3
   },
   "file_extension": ".py",
   "mimetype": "text/x-python",
   "name": "python",
   "nbconvert_exporter": "python",
   "pygments_lexer": "ipython3",
   "version": "3.7.4"
  }
 },
 "nbformat": 4,
 "nbformat_minor": 4
}